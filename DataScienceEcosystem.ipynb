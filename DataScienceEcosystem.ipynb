{
 "cells": [
  {
   "cell_type": "markdown",
   "id": "9fcfb826",
   "metadata": {},
   "source": [
    "# Data Science Ecosystem"
   ]
  },
  {
   "cell_type": "markdown",
   "id": "4a680988",
   "metadata": {},
   "source": [
    "## Introduction - This Notebook summarizes Data Science Tools and Ecosystems."
   ]
  },
  {
   "cell_type": "markdown",
   "id": "c848cef1",
   "metadata": {},
   "source": [
    "**Objectives:**\n",
    "\n",
    "- List popular languages of Data Science\n",
    "- List common libraries\n",
    "- List Data Science Tools\n",
    "- Demonstrate mathematical expressions in Python"
   ]
  },
  {
   "cell_type": "markdown",
   "id": "673566a4",
   "metadata": {},
   "source": [
    "Some of the popular languages that Data Scientists use are:\n",
    "\n",
    "    1. Python\n",
    "    2. R\n",
    "    3. Structured Query Language (SQL)\n",
    "    4. Java\n",
    "    5. Scala\n",
    "    6. C++"
   ]
  },
  {
   "cell_type": "markdown",
   "id": "4627136c",
   "metadata": {},
   "source": [
    "Some of the common libraries used by Data Scientists are:\n",
    "\n",
    "    1. NumPy\n",
    "    2. Pandas\n",
    "    3. Matplotlib\n",
    "    4. Plotly\n",
    "    5. Scikitlearn\n",
    "    6. Tensorflow\n",
    "    7. ggplot2"
   ]
  },
  {
   "cell_type": "markdown",
   "id": "d1a15371",
   "metadata": {},
   "source": [
    "|Data Science Tools|\n",
    "|:-----------------:|\n",
    "|Jupyter Notebooks|\n",
    "|Anaconda|\n",
    "|R Studio|\n",
    "|GitHub|"
   ]
  },
  {
   "cell_type": "markdown",
   "id": "e7310e38",
   "metadata": {},
   "source": [
    "### Below are a few examples of evaluating arithmetic expressions in Python."
   ]
  },
  {
   "cell_type": "code",
   "execution_count": 2,
   "id": "00121033",
   "metadata": {},
   "outputs": [
    {
     "data": {
      "text/plain": [
       "17"
      ]
     },
     "execution_count": 2,
     "metadata": {},
     "output_type": "execute_result"
    }
   ],
   "source": [
    "#This is a simple arithmetic expression to multiply then add\n",
    "(3*4)+5"
   ]
  },
  {
   "cell_type": "code",
   "execution_count": 7,
   "id": "83f352b0",
   "metadata": {},
   "outputs": [
    {
     "data": {
      "text/plain": [
       "3.3333333333333335"
      ]
     },
     "execution_count": 7,
     "metadata": {},
     "output_type": "execute_result"
    }
   ],
   "source": [
    "#This will convert 200 minutes to hours by dividing by 60.\n",
    "200/60"
   ]
  },
  {
   "cell_type": "markdown",
   "id": "c76c0bc6",
   "metadata": {},
   "source": [
    "## Author\n",
    "\n",
    "## Keith N McDonald"
   ]
  },
  {
   "cell_type": "code",
   "execution_count": null,
   "id": "36002256",
   "metadata": {},
   "outputs": [],
   "source": []
  }
 ],
 "metadata": {
  "kernelspec": {
   "display_name": "Python 3 (ipykernel)",
   "language": "python",
   "name": "python3"
  },
  "language_info": {
   "codemirror_mode": {
    "name": "ipython",
    "version": 3
   },
   "file_extension": ".py",
   "mimetype": "text/x-python",
   "name": "python",
   "nbconvert_exporter": "python",
   "pygments_lexer": "ipython3",
   "version": "3.9.13"
  }
 },
 "nbformat": 4,
 "nbformat_minor": 5
}
